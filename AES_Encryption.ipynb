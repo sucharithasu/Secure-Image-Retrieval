{
  "nbformat": 4,
  "nbformat_minor": 0,
  "metadata": {
    "colab": {
      "provenance": [],
      "authorship_tag": "ABX9TyNaPNu78yI8pEojZqLZOLIX",
      "include_colab_link": true
    },
    "kernelspec": {
      "name": "python3",
      "display_name": "Python 3"
    },
    "language_info": {
      "name": "python"
    }
  },
  "cells": [
    {
      "cell_type": "markdown",
      "metadata": {
        "id": "view-in-github",
        "colab_type": "text"
      },
      "source": [
        "<a href=\"https://colab.research.google.com/github/sucharithasu/Secure-Image-Retrieval/blob/main/AES_Encryption.ipynb\" target=\"_parent\"><img src=\"https://colab.research.google.com/assets/colab-badge.svg\" alt=\"Open In Colab\"/></a>"
      ]
    },
    {
      "cell_type": "code",
      "execution_count": 1,
      "metadata": {
        "colab": {
          "base_uri": "https://localhost:8080/"
        },
        "id": "3lxLt8zYtzfq",
        "outputId": "ab539a48-7284-4fd8-ec59-49cd3fa33770"
      },
      "outputs": [
        {
          "output_type": "stream",
          "name": "stdout",
          "text": [
            "Collecting pycryptodome\n",
            "  Downloading pycryptodome-3.23.0-cp37-abi3-manylinux_2_17_x86_64.manylinux2014_x86_64.whl.metadata (3.4 kB)\n",
            "Downloading pycryptodome-3.23.0-cp37-abi3-manylinux_2_17_x86_64.manylinux2014_x86_64.whl (2.3 MB)\n",
            "\u001b[2K   \u001b[90m━━━━━━━━━━━━━━━━━━━━━━━━━━━━━━━━━━━━━━━━\u001b[0m \u001b[32m2.3/2.3 MB\u001b[0m \u001b[31m23.3 MB/s\u001b[0m eta \u001b[36m0:00:00\u001b[0m\n",
            "\u001b[?25hInstalling collected packages: pycryptodome\n",
            "Successfully installed pycryptodome-3.23.0\n"
          ]
        }
      ],
      "source": [
        "pip install pycryptodome"
      ]
    },
    {
      "cell_type": "code",
      "source": [
        "from Crypto.Cipher import AES\n",
        "from Crypto.Util.Padding import pad\n",
        "from PIL import Image\n",
        "import numpy as np\n",
        "\n",
        "# Function to read image and convert to bytes\n",
        "def image_to_bytes(image_path):\n",
        "    img = Image.open(image_path).convert('L')  # Grayscale\n",
        "    img_array = np.array(img)\n",
        "    img_bytes = img_array.tobytes()\n",
        "    return img_bytes, img.size, img.mode\n",
        "\n",
        "# Function to encrypt image bytes using AES\n",
        "def encrypt_image_bytes(image_bytes, key):\n",
        "    cipher = AES.new(key, AES.MODE_ECB)  # Using ECB for simplicity\n",
        "    padded_data = pad(image_bytes, AES.block_size)  # Pad to 16-byte multiple\n",
        "    encrypted_bytes = cipher.encrypt(padded_data)\n",
        "    return encrypted_bytes\n",
        "\n",
        "# Function to convert bytes back to image\n",
        "def bytes_to_image(encrypted_bytes, size, mode):\n",
        "    encrypted_array = np.frombuffer(encrypted_bytes, dtype=np.uint8)\n",
        "    encrypted_array = encrypted_array[:size[0] * size[1]]  # Trim any padding\n",
        "    encrypted_image = encrypted_array.reshape((size[1], size[0]))  # Note: size is (width, height)\n",
        "    return Image.fromarray(encrypted_image, mode='L')\n",
        "\n",
        "# Main execution\n",
        "if __name__ == \"__main__\":\n",
        "    image_path = '/content/00024743_000.png'  # Replace with your image path\n",
        "    key = b'ThisIsASecretKey'  # 16 bytes for AES-128\n",
        "\n",
        "    img_bytes, size, mode = image_to_bytes(image_path)\n",
        "    encrypted_bytes = encrypt_image_bytes(img_bytes, key)\n",
        "    encrypted_image = bytes_to_image(encrypted_bytes, size, mode)\n",
        "\n",
        "    encrypted_image.save('encrypted_image4.png')\n",
        "    print(\"Image encrypted and saved as 'encrypted_image.png'\")\n",
        "    encrypted_image.show()\n"
      ],
      "metadata": {
        "colab": {
          "base_uri": "https://localhost:8080/"
        },
        "id": "OtOL9LZZuCIb",
        "outputId": "70fc61f6-2f11-4e28-944d-509c3b1ad87d"
      },
      "execution_count": 12,
      "outputs": [
        {
          "output_type": "stream",
          "name": "stdout",
          "text": [
            "Image encrypted and saved as 'encrypted_image.png'\n"
          ]
        }
      ]
    },
    {
      "cell_type": "code",
      "source": [
        "from PIL import Image\n",
        "import os\n",
        "import math\n",
        "\n",
        "def combine_images(folder_path, grid_size=(1, 4), image_size=(128, 128)):\n",
        "    # List all image files\n",
        "    image_files = [f for f in os.listdir(folder_path) if f.lower().endswith(('.png'))]\n",
        "\n",
        "    total_images = len(image_files)\n",
        "    rows, cols = grid_size\n",
        "\n",
        "    # Adjust grid size if needed\n",
        "    if total_images < rows * cols:\n",
        "        cols = math.ceil(total_images / rows)\n",
        "\n",
        "    # Create a blank canvas for the final image\n",
        "    combined_width = cols * image_size[0]\n",
        "    combined_height = rows * image_size[1]\n",
        "    combined_image = Image.new('RGB', (combined_width, combined_height), color='white')\n",
        "\n",
        "    for idx, file in enumerate(image_files):\n",
        "        if idx >= rows * cols:\n",
        "            break\n",
        "        img_path = os.path.join(folder_path, file)\n",
        "        img = Image.open(img_path).convert('RGB')\n",
        "        img = img.resize(image_size)\n",
        "\n",
        "        x = (idx % cols) * image_size[0]\n",
        "        y = (idx // cols) * image_size[1]\n",
        "        combined_image.paste(img, (x, y))\n",
        "\n",
        "    return combined_image\n",
        "\n",
        "# Example usage\n",
        "folder = '/content/Encrypted_Images'  # Replace with your folder path\n",
        "result_image = combine_images(folder, grid_size=(1, 4), image_size=(128, 128))\n",
        "result_image.show()\n",
        "result_image.save('combined_output1.png')\n"
      ],
      "metadata": {
        "id": "uWMSjevnuH4y"
      },
      "execution_count": 25,
      "outputs": []
    }
  ]
}